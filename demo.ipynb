{
 "cells": [
  {
   "cell_type": "code",
   "execution_count": 4,
   "metadata": {},
   "outputs": [],
   "source": [
    "import random\n",
    "import numpy as np\n",
    "import time\n",
    "import argparse\n",
    "from pymilvus import (\n",
    "    connections, list_collections,\n",
    "    FieldSchema, CollectionSchema, DataType,\n",
    "    Collection\n",
    ")\n",
    "from multiprocessing import Process\n",
    "TIMEOUT = 120"
   ]
  },
  {
   "cell_type": "code",
   "execution_count": 5,
   "metadata": {},
   "outputs": [
    {
     "name": "stderr",
     "output_type": "stream",
     "text": [
      "Traceback (most recent call last):\n",
      "  File \"<string>\", line 1, in <module>\n",
      "  File \"/Users/zilliz/opt/anaconda3/envs/milvus/lib/python3.8/multiprocessing/spawn.py\", line 116, in spawn_main\n",
      "    exitcode = _main(fd, parent_sentinel)\n",
      "  File \"/Users/zilliz/opt/anaconda3/envs/milvus/lib/python3.8/multiprocessing/spawn.py\", line 126, in _main\n",
      "    self = reduction.pickle.load(from_parent)\n",
      "AttributeError: Can't get attribute 'try_connect' on <module '__main__' (built-in)>\n",
      "Traceback (most recent call last):\n",
      "  File \"<string>\", line 1, in <module>\n",
      "  File \"/Users/zilliz/opt/anaconda3/envs/milvus/lib/python3.8/multiprocessing/spawn.py\", line 116, in spawn_main\n",
      "    exitcode = _main(fd, parent_sentinel)\n",
      "  File \"/Users/zilliz/opt/anaconda3/envs/milvus/lib/python3.8/multiprocessing/spawn.py\", line 126, in _main\n",
      "    self = reduction.pickle.load(from_parent)\n",
      "AttributeError: Can't get attribute 'try_connect' on <module '__main__' (built-in)>\n"
     ]
    },
    {
     "name": "stdout",
     "output_type": "stream",
     "text": [
      "all connected\n"
     ]
    }
   ],
   "source": [
    "def try_connect(host, port):\n",
    "    from pymilvus import connections\n",
    "    connections.connect(host=host, port=\"19530\")\n",
    "    print(f\"connect to {host} success\")\n",
    "\n",
    "conn_list = [\"10.100.36.163\", \"10.100.36.164\"]\n",
    "for host in conn_list:\n",
    "    p = Process(target=try_connect, args=(host, \"19530\"))\n",
    "    p.start()\n",
    "    p.join()\n",
    "print(\"all connected\")\n",
    "time.sleep(100)"
   ]
  },
  {
   "cell_type": "code",
   "execution_count": null,
   "metadata": {},
   "outputs": [],
   "source": [
    "collection = Collection(name=\"cdc_create_task_2023_04_12_07_41_17_839238\")\n",
    "collection.flush()\n",
    "num = collection.num_entities\n",
    "print(num)"
   ]
  }
 ],
 "metadata": {
  "kernelspec": {
   "display_name": "milvus",
   "language": "python",
   "name": "python3"
  },
  "language_info": {
   "codemirror_mode": {
    "name": "ipython",
    "version": 3
   },
   "file_extension": ".py",
   "mimetype": "text/x-python",
   "name": "python",
   "nbconvert_exporter": "python",
   "pygments_lexer": "ipython3",
   "version": "3.8.11"
  },
  "orig_nbformat": 4
 },
 "nbformat": 4,
 "nbformat_minor": 2
}
