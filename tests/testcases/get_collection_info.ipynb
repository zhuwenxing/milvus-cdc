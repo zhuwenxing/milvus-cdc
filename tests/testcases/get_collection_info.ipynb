{
 "cells": [
  {
   "cell_type": "code",
   "execution_count": 1,
   "metadata": {},
   "outputs": [],
   "source": [
    "from pymilvus import (\n",
    "    connections, list_collections, has_partition,\n",
    "    FieldSchema, CollectionSchema, DataType,\n",
    "    Collection, Partition, utility\n",
    ")"
   ]
  },
  {
   "cell_type": "code",
   "execution_count": 3,
   "metadata": {},
   "outputs": [
    {
     "name": "stdout",
     "output_type": "stream",
     "text": [
      "['cdc_e2e_2023_04_06_20_47_32_596296', 'cdc_e2e_2023_04_07_14_29_44_942161', 'cdc_e2e_2023_04_06_18_56_29_383695', 'cdc_e2e_2023_04_06_19_36_15_649208', 'cdc_e2e_2023_04_06_20_22_06_099942', 'cdc_e2e_2023_04_06_20_25_59_194043', 'cdc_e2e_2023_04_06_20_51_02_881338', 'cdc_e2e_2023_04_07_10_51_30_041622', 'cdc_e2e_2023_04_07_15_02_02_439772', 'cdc_e2e_2023_04_06_16_53_40_275389', 'cdc_e2e_2023_04_06_17_34_55_604309', 'cdc_e2e_2023_04_06_17_41_57_535380', 'cdc_e2e_2023_04_06_20_05_02_661914', 'cdc_e2e_2023_04_06_20_30_42_090323', 'cdc_e2e_2023_04_06_16_43_14_746058', 'cdc_e2e_2023_04_06_17_23_22_025983', 'cdc_e2e_2023_04_07_14_23_20_994797', 'cdc_e2e_2023_04_06_20_40_22_577172', 'cdc_e2e_2023_04_06_19_31_08_162511', 'cdc_e2e_2023_04_07_14_46_01_547646', 'cdc_e2e_2023_04_06_17_19_46_481683', 'cdc_e2e_2023_04_06_19_05_05_887387', 'cdc_e2e_2023_04_06_20_15_49_336292', 'cdc_e2e_2023_04_06_16_47_15_457853', 'cdc_e2e_2023_04_06_20_58_38_291353', 'cdc_e2e_2023_04_06_19_10_18_230580', 'cdc_e2e_2023_04_06_21_05_04_284085']\n",
      "27\n",
      "cdc_e2e_2023_04_06_20_47_32_596296\n",
      "cdc_e2e_2023_04_07_14_29_44_942161\n",
      "cdc_e2e_2023_04_06_18_56_29_383695\n",
      "cdc_e2e_2023_04_06_19_36_15_649208\n",
      "cdc_e2e_2023_04_06_20_22_06_099942\n",
      "cdc_e2e_2023_04_06_20_25_59_194043\n",
      "cdc_e2e_2023_04_06_20_51_02_881338\n",
      "cdc_e2e_2023_04_07_10_51_30_041622\n",
      "cdc_e2e_2023_04_07_15_02_02_439772\n",
      "cdc_e2e_2023_04_06_16_53_40_275389\n",
      "cdc_e2e_2023_04_06_17_34_55_604309\n",
      "cdc_e2e_2023_04_06_17_41_57_535380\n",
      "cdc_e2e_2023_04_06_20_05_02_661914\n",
      "cdc_e2e_2023_04_06_20_30_42_090323\n",
      "cdc_e2e_2023_04_06_16_43_14_746058\n",
      "cdc_e2e_2023_04_06_17_23_22_025983\n",
      "cdc_e2e_2023_04_07_14_23_20_994797\n",
      "cdc_e2e_2023_04_06_20_40_22_577172\n",
      "cdc_e2e_2023_04_06_19_31_08_162511\n",
      "cdc_e2e_2023_04_07_14_46_01_547646\n",
      "cdc_e2e_2023_04_06_17_19_46_481683\n",
      "cdc_e2e_2023_04_06_19_05_05_887387\n",
      "cdc_e2e_2023_04_06_20_15_49_336292\n",
      "cdc_e2e_2023_04_06_16_47_15_457853\n",
      "cdc_e2e_2023_04_06_20_58_38_291353\n",
      "cdc_e2e_2023_04_06_19_10_18_230580\n",
      "cdc_e2e_2023_04_06_21_05_04_284085\n"
     ]
    }
   ],
   "source": [
    "connections.connect(\"default\", host=\"10.101.14.222\", port=\"19530\")\n",
    "all_coll = list_collections()\n",
    "print(all_coll)\n",
    "print(len(all_coll))\n",
    "for c in all_coll:\n",
    "    if \"e2e\" in c:\n",
    "        print(c)\n",
    "a = ['cdc_test_2023_04_07_15_44_58_627778', 'cdc_test_2023_04_07_15_44_58_958214', 'cdc_test_2023_04_07_15_45_00_090270', 'cdc_test_2023_04_07_15_45_02_339219', 'cdc_test_2023_04_07_15_45_03_437431', 'cdc_test_2023_04_07_15_45_04_744617', 'cdc_test_2023_04_07_15_45_05_854371', 'cdc_test_2023_04_07_15_45_07_363432']\n",
    "for c in a:\n",
    "    if c in all_coll:\n",
    "        print(c)\n",
    "        print(f\"find {c} in downstream\")"
   ]
  },
  {
   "cell_type": "code",
   "execution_count": null,
   "metadata": {},
   "outputs": [],
   "source": [
    "col = Collection(name=\"cdc_e2e_2023_04_06_17_23_22_025983\")\n",
    "print(col)\n",
    "index_infos = [index.to_dict() for index in col.indexes]\n",
    "print(index_infos)\n",
    "replicas = col.get_replicas()\n",
    "print(replicas)\n",
    "p = col.partitions\n",
    "print(p)\n",
    "p_list = [p.name for p in col.partitions]\n",
    "print(p_list)"
   ]
  }
 ],
 "metadata": {
  "kernelspec": {
   "display_name": "milvus",
   "language": "python",
   "name": "python3"
  },
  "language_info": {
   "codemirror_mode": {
    "name": "ipython",
    "version": 3
   },
   "file_extension": ".py",
   "mimetype": "text/x-python",
   "name": "python",
   "nbconvert_exporter": "python",
   "pygments_lexer": "ipython3",
   "version": "3.8.11"
  },
  "orig_nbformat": 4
 },
 "nbformat": 4,
 "nbformat_minor": 2
}
